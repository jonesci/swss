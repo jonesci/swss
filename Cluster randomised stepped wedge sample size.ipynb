{
 "cells": [
  {
   "cell_type": "markdown",
   "metadata": {},
   "source": [
    "This script performs the calculations outlined in Hooper et al. 2016 Sample size calculation for stepped wedge and other longitudinal cluster randomised trials - https://onlinelibrary.wiley.com/doi/full/10.1002/sim.7028"
   ]
  },
  {
   "cell_type": "code",
   "execution_count": null,
   "metadata": {},
   "outputs": [],
   "source": [
    "import scipy.stats as scipy\n",
    "import math"
   ]
  },
  {
   "cell_type": "code",
   "execution_count": null,
   "metadata": {},
   "outputs": [],
   "source": [
    "def steppedwedgen(power, alpha, diff, sd, ppc, icc, steps, pac, cac):\n",
    "    print(\"Difference in means: \"+str(diff))\n",
    "    print(\"SD: \"+str(sd))\n",
    "    es=diff/sd    \n",
    "    print(\"Effect size: \"+str(es))  \n",
    "    print(\"\\n\")\n",
    "    \n",
    "    print(\"Sample size calculation for a single cross-section individually randomised trial (Nsi):\")\n",
    "    print(\"4*(sd/diff)^2 * (Z1-alpha/2+Zpower)^2\")\n",
    "    za=scipy.norm.ppf(1-alpha/2)\n",
    "    zp=scipy.norm.ppf(power)\n",
    "    print(\"Z1-alpha/2 = \"+str(za))\n",
    "    print(\"Zpower = \"+str(zp))\n",
    "    nsi=4*(sd/diff)**2*(za+zp)**2\n",
    "    print(\"Nsi = 4*(\"+str(sd)+\"/\"+str(diff)+\")^2 * (\"+str(za)+\"+\"+str(zp)+\")^2\")\n",
    "    print(\"Nsi = \"+str(nsi))\n",
    "    pgn=math.ceil(nsi/2)\n",
    "    print(\"N per group (rounded up): \"+str(pgn))\n",
    "    print(\"\\n\")\n",
    "    \n",
    "    print(\"Design effect for cluster randomised trial (Deffc)\")\n",
    "    print(\"Paritcipants per cluster (m) = \"+str(ppc))\n",
    "    print(\"ICC = \"+str(icc))\n",
    "    print(\"Deffc = 1+(m-1)*ICC\")\n",
    "    m=ppc\n",
    "    deffc=1+(m-1)*icc\n",
    "    print(\"Deffc = 1+(\"+str(m)+\"-1)*\"+str(icc)+\" = \"+str(deffc))\n",
    "    print(\"\\n\")\n",
    "    \n",
    "    print(\"Sample size for a single cross-section cluster randomised trial (Nsc): \")\n",
    "    print(\"Nsc = Deffc*Nsi = \"+str(deffc)+\"*\"+str(nsi))\n",
    "    nsc=deffc*nsi\n",
    "    print(\"Nsc = \"+str(nsc))\n",
    "    pgnsc=math.ceil(nsc/2)\n",
    "    print(\"N per group (rounded up): \"+str(pgnsc))\n",
    "    print(\"\\n\")\n",
    "    \n",
    "    print(\"Design effect for repeated assessments in an L-step stepped wedge design (Deffrl)\")\n",
    "    print(\"Cluster autocorrelation (c) = \"+str(cac))\n",
    "    print(\"Subject autocorrelation (s) = \"+str(pac))\n",
    "    print(\"Correlation due to repeated measurements (r) = mpc+(1-p)s/1+(m-1)p\")\n",
    "    print(\"r = (\"+str(m)+\"*\"+str(icc)+\"*\"+str(cac)+\"+(1-\"+str(icc)+\")*\"+str(pac)+\")/1+(\"+str(m)+\"-1)*\"+str(icc))\n",
    "    r=(m*icc*cac+(1-icc)*pac)/deffc\n",
    "    print(\"r = \"+str(r))\n",
    "    print(\"Number of steps (L): \"+str(steps))\n",
    "    print(\"Deffrl = 3L(1-r)(1+Lr)/(L^2-1)(2+Lr)\")\n",
    "    deffrl=(3*steps*(1-r)*(1+steps*r))/((steps**2-1)*(2+steps*r))\n",
    "    print(\"Deffrl = \"+str(deffrl))\n",
    "    print(\"\\n\")\n",
    "    \n",
    "    print(\"Sample size for an L-step stepped wedge design (Ncc):\")\n",
    "    ncc=deffrl*deffc*nsi\n",
    "    print(\"Ncc = Deffrl*Deffc*Nsi\")\n",
    "    print(\"Ncc = \"+str(ncc))\n",
    "    pgncc=math.ceil(ncc/2)\n",
    "    print(\"N per group (rounded up): \"+str(pgncc))\n",
    "    ncct=pgncc*2\n",
    "    clusts=math.ceil(ncct/ppc/2)*2\n",
    "    ncct2=clusts*ppc\n",
    "    print(\"Number of clusters required to equally distribute at least \"+str(ncct)+\" participants across 2 arms: \"+str(clusts)+\" (\"+str(ncct2)+\" total participants)\")"
   ]
  },
  {
   "cell_type": "markdown",
   "metadata": {},
   "source": [
    "Required parameters:\n",
    "\n",
    "    power - desired power level (1-b)\n",
    "    alpha - desired alpha level\n",
    "    diff - expected difference between means\n",
    "    sd - expected common standard deviation\n",
    "    ppc - number of participants per cluster\n",
    "    steps - number of steps in stepped-wedge design\n",
    "    pac - participant autocorrelation\n",
    "    cac - cluster autocorrelation\n",
    "    \n",
    "steppedwedgen(power, alpha, diff, sd, ppc, icc, steps, pac, cac)\n",
    "    "
   ]
  },
  {
   "cell_type": "code",
   "execution_count": null,
   "metadata": {},
   "outputs": [],
   "source": [
    "#Example from paper (section 4)\n",
    "\n",
    "steppedwedgen(0.8, 0.05, 2, 5, 10, 0.05, 3, 0.7, 0.9)"
   ]
  },
  {
   "cell_type": "code",
   "execution_count": null,
   "metadata": {},
   "outputs": [],
   "source": [
    "steppedwedgen(0.8, 0.05, 0.3, 1, 10, 0.05, 4, 0.7, 0.9)"
   ]
  }
 ],
 "metadata": {
  "kernelspec": {
   "display_name": "Python 3",
   "language": "python",
   "name": "python3"
  },
  "language_info": {
   "codemirror_mode": {
    "name": "ipython",
    "version": 3
   },
   "file_extension": ".py",
   "mimetype": "text/x-python",
   "name": "python",
   "nbconvert_exporter": "python",
   "pygments_lexer": "ipython3",
   "version": "3.6.5"
  }
 },
 "nbformat": 4,
 "nbformat_minor": 2
}
